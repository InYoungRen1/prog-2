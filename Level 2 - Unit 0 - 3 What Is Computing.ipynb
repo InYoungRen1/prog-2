{
 "cells": [
  {
   "cell_type": "markdown",
   "metadata": {},
   "source": [
    "# Unit 0 - 3 What is Computing\n",
    "This is where your notes are going to go.  \n",
    "Get into the habit of filling this out while we're going through the lessons.\n",
    "\n",
    "Periodically, I'll be giving you notebook files to fill out. Sometimes you're going to be starting them off yourself.\n",
    "\n",
    "**These files are going to be foundational to your learning. Please give them the time that they require**"
   ]
  },
  {
   "cell_type": "markdown",
   "metadata": {},
   "source": [
    "You may wonder why we're using this and not Microsoft word.  \n",
    "The biggest reason is because this accepts Python.  \n",
    "\n",
    "For example:"
   ]
  },
  {
   "cell_type": "code",
   "execution_count": 5,
   "metadata": {
    "tags": []
   },
   "outputs": [
    {
     "name": "stdout",
     "output_type": "stream",
     "text": [
      "hello\n"
     ]
    }
   ],
   "source": [
    "print (f\"hello\")\n"
   ]
  },
  {
   "cell_type": "markdown",
   "metadata": {},
   "source": [
    "The line above is a line of code in python. We can do Python in here."
   ]
  },
  {
   "cell_type": "markdown",
   "metadata": {},
   "source": [
    "--------"
   ]
  },
  {
   "cell_type": "markdown",
   "metadata": {},
   "source": [
    "## What are algorithms?"
   ]
  },
  {
   "cell_type": "markdown",
   "metadata": {},
   "source": [
    "It's a set of instructions we give to solve a problem."
   ]
  },
  {
   "cell_type": "code",
   "execution_count": null,
   "metadata": {
    "tags": []
   },
   "outputs": [
    {
     "name": "stdout",
     "output_type": "stream",
     "text": [
      "Hello I'm a bot. Glad to meet you\n"
     ]
    }
   ],
   "source": [
    "# Get to know you BOT\n",
    "\n",
    "# Greet the user\n",
    "print (f\"Hello I'm a bot. Glad to meet you\")\n",
    "\n",
    "# Ask their name\n",
    "name = input(\"what is your name?\")\n",
    "\n",
    "# respond\n",
    "print (f\"hi, {name}, good to know you!\")\n",
    "       \n",
    "# ask for their age \n",
    "age = input(\"what is your age?\")\n",
    "\n",
    "# comment\n",
    "print (f\"Nice, {name}, you are {age} years old\")\n",
    "\n"
   ]
  },
  {
   "cell_type": "markdown",
   "metadata": {},
   "source": [
    "☝🏽 This is typically how notebook entries are going to look."
   ]
  },
  {
   "cell_type": "markdown",
   "metadata": {},
   "source": [
    "## Who's the first programmer?"
   ]
  },
  {
   "cell_type": "markdown",
   "metadata": {},
   "source": [
    "The first programmer's name is **Ada Lovelace**."
   ]
  },
  {
   "cell_type": "markdown",
   "metadata": {},
   "source": []
  }
 ],
 "metadata": {
  "kernelspec": {
   "display_name": "Python 3",
   "language": "python",
   "name": "python3"
  },
  "language_info": {
   "codemirror_mode": {
    "name": "ipython",
    "version": 3
   },
   "file_extension": ".py",
   "mimetype": "text/x-python",
   "name": "python",
   "nbconvert_exporter": "python",
   "pygments_lexer": "ipython3",
   "version": "3.8.2"
  }
 },
 "nbformat": 4,
 "nbformat_minor": 4
}
